{
 "cells": [
  {
   "cell_type": "code",
   "execution_count": 166,
   "id": "398b5884-b3fe-48fe-8047-d3e40f98f499",
   "metadata": {},
   "outputs": [
    {
     "name": "stdout",
     "output_type": "stream",
     "text": [
      "   Unnamed: 0.1  Unnamed: 0 Company Name  \\\n",
      "0             0           0       SpaceX   \n",
      "1             1           1         CASC   \n",
      "2             2           2       SpaceX   \n",
      "3             3           3    Roscosmos   \n",
      "4             4           4          ULA   \n",
      "\n",
      "                                            Location  \\\n",
      "0         LC-39A, Kennedy Space Center, Florida, USA   \n",
      "1  Site 9401 (SLS-2), Jiuquan Satellite Launch Ce...   \n",
      "2                      Pad A, Boca Chica, Texas, USA   \n",
      "3       Site 200/39, Baikonur Cosmodrome, Kazakhstan   \n",
      "4           SLC-41, Cape Canaveral AFS, Florida, USA   \n",
      "\n",
      "                        Datum                                        Detail  \\\n",
      "0  Fri Aug 07, 2020 05:12 UTC  Falcon 9 Block 5 | Starlink V1 L9 & BlackSky   \n",
      "1  Thu Aug 06, 2020 04:01 UTC           Long March 2D | Gaofen-9 04 & Q-SAT   \n",
      "2  Tue Aug 04, 2020 23:57 UTC            Starship Prototype | 150 Meter Hop   \n",
      "3  Thu Jul 30, 2020 21:25 UTC  Proton-M/Briz-M | Ekspress-80 & Ekspress-103   \n",
      "4  Thu Jul 30, 2020 11:50 UTC                    Atlas V 541 | Perseverance   \n",
      "\n",
      "  Status Rocket  Rocket Status Mission     Country  \n",
      "0  StatusActive   50.0         Success         USA  \n",
      "1  StatusActive  29.75         Success       China  \n",
      "2  StatusActive     NaN        Success         USA  \n",
      "3  StatusActive   65.0         Success  Kazakhstan  \n",
      "4  StatusActive  145.0         Success         USA  \n",
      "Country\n",
      "Russia        1395\n",
      "USA           1344\n",
      "Kazakhstan     701\n",
      "France         303\n",
      "China          268\n",
      "Japan          126\n",
      "India           76\n",
      "Ocean           36\n",
      "Zealand         13\n",
      "Iran            13\n",
      "Israel          11\n",
      "Kenya            9\n",
      "Korea            8\n",
      "Australia        6\n",
      "Mexico           4\n",
      "Sea              4\n",
      "Brazil           3\n",
      "Canaria          2\n",
      "Site             1\n",
      "Facility         1\n",
      "Name: count, dtype: int64\n",
      "Status Mission\n",
      "Success              3879\n",
      "Failure               339\n",
      "Partial Failure       102\n",
      "Prelaunch Failure       4\n",
      "Name: count, dtype: int64\n",
      "Status Rocket\n",
      "StatusRetired    3534\n",
      "StatusActive      790\n",
      "Name: count, dtype: int64\n"
     ]
    }
   ],
   "source": [
    "import pandas as pd\n",
    "space_missions = pd.read_csv(\"Space_data_raw.csv\")\n",
    "\n",
    "    # We are going to take a look at few categorical variables and summarize them. \n",
    "    # There are two variables:  Location and Status Mission that I'd like to take a look at. \n",
    "    # Let's make sure we have clean data to analyze and get a closer look at categorical variables.\n",
    "\n",
    "space_missions['Country'] = space_missions['Location'].str.split().str[-1]\n",
    "print(space_missions.head())\n",
    "\n",
    "print(space_missions.Country.value_counts())\n",
    "print(space_missions['Status Mission'].value_counts())\n",
    "print(space_missions['Status Rocket'].value_counts())"
   ]
  },
  {
   "cell_type": "code",
   "execution_count": 68,
   "id": "8a8f4c38-1b35-4c2a-bf7d-ea06b16ba871",
   "metadata": {},
   "outputs": [
    {
     "name": "stdout",
     "output_type": "stream",
     "text": [
      "Status Mission\n",
      "Success              3879\n",
      "Failure               339\n",
      "Partial Failure       102\n",
      "Prelaunch Failure       4\n",
      "Name: count, dtype: int64\n",
      "Success\n",
      "Success\n",
      "Success\n"
     ]
    }
   ],
   "source": [
    "    # Assuming that status mission is an ordinal variable, what is the central tendency and the spread? \n",
    "import numpy as np\n",
    "print(space_missions['Status Mission'].value_counts())\n",
    "ordered_s_m = ['Prelaunch Failure','Failure','Partial Failure', 'Success']\n",
    "space_missions['Status Mission'] = pd.Categorical(space_missions['Status Mission'], ordered_s_m, ordered = True)\n",
    "median_ind = np.median(space_missions['Status Mission'].cat.codes)\n",
    "print(ordered_s_m[int(median_ind)])\n",
    "    # central tendency seems to be a successful mission. What about interquartile range?\n",
    "p25 = np.percentile(space_missions['Status Mission'].cat.codes, 25)\n",
    "p75 = np.percentile(space_missions['Status Mission'].cat.codes, 75)\n",
    "p25_percentile = ordered_s_m[int(p25)]\n",
    "print(p25_percentile)\n",
    "p75_percentile = ordered_s_m[int(p75)]\n",
    "print(p25_percentile)\n",
    "    # so, the majority of missions were reported successful. Maybe we should take a look at the most recent data? \n"
   ]
  },
  {
   "cell_type": "code",
   "execution_count": 24,
   "id": "f8721e0d-ff68-4f84-9593-a362de5314d7",
   "metadata": {},
   "outputs": [
    {
     "name": "stdout",
     "output_type": "stream",
     "text": [
      "[2020 2019 2018 2017 2016 2015 2014 2013 2012 2011 2010 2009 2008 2007\n",
      " 2006 2005 2004 2003 2002 2001 2000 1999 1998 1997 1996 1995 1994 1993\n",
      " 1992 1991 1990 1989 1988 1987 1986 1985 1984 1983 1982 1981 1980 1979\n",
      " 1978 1977 1976 1975 1974 1973 1972 1971 1970 1969 1968 1967 1966 1965\n",
      " 1964 1963 1962 1961 1960 1959 1958 1957]\n"
     ]
    }
   ],
   "source": [
    "    # Let's clean and extract a numeric year from Datum. \n",
    "space_missions['Year'] = space_missions['Datum'].str[-14:-10]\n",
    "space_missions['Year'] = pd.to_numeric(space_missions['Year'], errors='coerce')\n",
    "space_missions.dropna(subset=['Year'], inplace=True)\n",
    "\n",
    "space_missions['Year'] = space_missions['Year'].astype(int)\n"
   ]
  },
  {
   "cell_type": "code",
   "execution_count": 60,
   "id": "39785344-cab3-4a5b-9927-339b922de7c8",
   "metadata": {},
   "outputs": [
    {
     "name": "stdout",
     "output_type": "stream",
     "text": [
      "[2020 2019 2018 2017 2016 2015 2014 2013 2012 2011 2010 2009 2008 2007\n",
      " 2006 2005 2004 2003 2002 2001 2000 1999 1998 1997 1996 1995 1994 1993\n",
      " 1992 1991 1990 1989 1988 1987 1986 1985 1984 1983 1982 1981 1980 1979\n",
      " 1978 1977 1976 1975 1974 1973 1972 1971 1970 1969 1968 1967 1966 1965\n",
      " 1964 1963 1962 1961 1960 1959 1958 1957]\n",
      "Status Mission\n",
      "Success              1115\n",
      "Failure                49\n",
      "Partial Failure        19\n",
      "Prelaunch Failure       1\n",
      "Name: count, dtype: int64\n",
      "Success\n",
      "Success\n",
      "Success\n"
     ]
    }
   ],
   "source": [
    "# Let's filter out only recent space missions (2000 and earlier)\n",
    "print(space_missions['Year'].unique())\n",
    "recent_missions = space_missions[(space_missions['Year'] >= 2000) & (space_missions['Year'] <= 2024)].copy()\n",
    "# What's a central tendency and spread of new data?\n",
    "print(recent_missions['Status Mission'].value_counts())\n",
    "ordered_s_m_2 = ['Prelaunch Failure','Failure','Partial Failure', 'Success']\n",
    "recent_missions['Status Mission'] = pd.Categorical(recent_missions['Status Mission'], ordered_s_m_2, ordered = True)\n",
    "median_ind_2 = np.median(recent_missions['Status Mission'].cat.codes)\n",
    "print(ordered_s_m_2[int(median_ind_2)])\n",
    "\n",
    "   # central tendency seems to be a successful mission as well!\n",
    "p25_2 = np.percentile(recent_missions['Status Mission'].cat.codes, 25)\n",
    "p75_2 = np.percentile(recent_missions['Status Mission'].cat.codes, 75)\n",
    "p25_percentile_2 = ordered_s_m_2[int(p25_2)]\n",
    "print(p25_percentile_2)\n",
    "p75_percentile_2 = ordered_s_m_2[int(p75_2)]\n",
    "print(p25_percentile_2)\n",
    "\n"
   ]
  },
  {
   "cell_type": "code",
   "execution_count": 164,
   "id": "f3591bcc-4701-4519-8681-65a9385b231f",
   "metadata": {},
   "outputs": [
    {
     "name": "stdout",
     "output_type": "stream",
     "text": [
      "Grouped_Country\n",
      "Russia        0.321820\n",
      "USA           0.314674\n",
      "Kazakhstan    0.161744\n",
      "France        0.072177\n",
      "Others        0.066698\n",
      "China         0.062887\n",
      "Name: proportion, dtype: float64\n"
     ]
    },
    {
     "data": {
      "image/png": "[encoded data removed]",
      "text/plain": [
       "<Figure size 640x480 with 1 Axes>"
      ]
     },
     "metadata": {},
     "output_type": "display_data"
    }
   ],
   "source": [
    "    # Let's switch over to  Country column. What's the proportion here like?  \n",
    "country_prop = space_missions['Country'].value_counts(normalize = True, dropna = False)\n",
    "\n",
    "import matplotlib.pyplot as plt\n",
    "    # Let's group small countries with small proportion into \"Others\" for easier visualization. \n",
    "country_prop = space_missions['Country'].value_counts(normalize=True, dropna=False)\n",
    "top_n = 5\n",
    "top_countries = country_prop.nlargest(top_n).index\n",
    "space_missions['Grouped_Country'] = space_missions['Country'].apply(lambda x: x if x in top_countries else 'Others')\n",
    "grouped_country_prop = space_missions['Grouped_Country'].value_counts(normalize=True)\n",
    "print(grouped_country_prop)\n",
    "country_names = grouped_country_prop.index.tolist()\n",
    "plt.pie(grouped_country_prop, labels=country_names, autopct='%1.1f%%', startangle=90)\n",
    "plt.title('Space missions organized by countries')\n",
    "plt.show()"
   ]
  },
  {
   "cell_type": "code",
   "execution_count": null,
   "id": "97b53b67-6716-48b3-8ddd-9b3e279729ce",
   "metadata": {},
   "outputs": [],
   "source": [
    "# As a conclusion, USA and Russia hosted the most number of space missions over the years, with Kazakhstan being 3rd most frequent. "
   ]
  }
 ],
 "metadata": {
  "kernelspec": {
   "display_name": "Python [conda env:base] *",
   "language": "python",
   "name": "conda-base-py"
  },
  "language_info": {
   "codemirror_mode": {
    "name": "ipython",
    "version": 3
   },
   "file_extension": ".py",
   "mimetype": "text/x-python",
   "name": "python",
   "nbconvert_exporter": "python",
   "pygments_lexer": "ipython3",
   "version": "3.12.7"
  }
 },
 "nbformat": 4,
 "nbformat_minor": 5
}
